{
  "cells": [
    {
      "cell_type": "markdown",
      "metadata": {
        "id": "view-in-github",
        "colab_type": "text"
      },
      "source": [
        "<a href=\"https://colab.research.google.com/github/Afzar26/Python/blob/main/Pattern_program.ipynb\" target=\"_parent\"><img src=\"https://colab.research.google.com/assets/colab-badge.svg\" alt=\"Open In Colab\"/></a>"
      ]
    },
    {
      "cell_type": "markdown",
      "metadata": {
        "id": "gmw5yzB33LsO"
      },
      "source": [
        "#**PATTERN PROGRAMS**"
      ]
    },
    {
      "cell_type": "code",
      "execution_count": 1,
      "metadata": {
        "id": "xHvjTE1vYCVS",
        "colab": {
          "base_uri": "https://localhost:8080/"
        },
        "outputId": "756fe7af-f02a-475e-85c3-52f11709aefe"
      },
      "outputs": [
        {
          "output_type": "stream",
          "name": "stdout",
          "text": [
            "enter number of rows: 5\n",
            "1 \n",
            "2 2 \n",
            "3 3 3 \n",
            "4 4 4 4 \n",
            "5 5 5 5 5 \n"
          ]
        }
      ],
      "source": [
        "a = int(input('enter number of rows: '))\n",
        "for r in range(1,a+1):\n",
        "  for c in range(1,r+1):\n",
        "    print(r, end=' ')\n",
        "  print()"
      ]
    },
    {
      "cell_type": "code",
      "execution_count": 2,
      "metadata": {
        "colab": {
          "base_uri": "https://localhost:8080/"
        },
        "id": "1XmhF095YDO5",
        "outputId": "ae4c295f-e29c-4f37-8415-898a8fb35c35"
      },
      "outputs": [
        {
          "output_type": "stream",
          "name": "stdout",
          "text": [
            "enter number of rows: 5\n",
            "1 \n",
            "1 2 \n",
            "1 2 3 \n",
            "1 2 3 4 \n",
            "1 2 3 4 5 \n"
          ]
        }
      ],
      "source": [
        "a = int(input('enter number of rows: '))\n",
        "for r in range(1,a+1):\n",
        "  for c in range(1,r+1):\n",
        "    print(c, end=' ')\n",
        "  print()"
      ]
    },
    {
      "cell_type": "markdown",
      "metadata": {
        "id": "NHjCN86Ab2ui"
      },
      "source": [
        "##**SIMPLE STAR SQUARE PATTERN**"
      ]
    },
    {
      "cell_type": "code",
      "execution_count": 3,
      "metadata": {
        "colab": {
          "base_uri": "https://localhost:8080/"
        },
        "id": "u5Ss92bvb6h_",
        "outputId": "5fe0dc6a-e622-4f72-fc7f-c1d3de941447"
      },
      "outputs": [
        {
          "output_type": "stream",
          "name": "stdout",
          "text": [
            "enter number of rows: 5\n",
            "* * * * * \n",
            "* * * * * \n",
            "* * * * * \n",
            "* * * * * \n",
            "* * * * * \n"
          ]
        }
      ],
      "source": [
        "a = int(input('enter number of rows: '))\n",
        "for r in range(a):\n",
        "  for c in range(a):\n",
        "    print('*', end=' ')\n",
        "  print()"
      ]
    },
    {
      "cell_type": "markdown",
      "metadata": {
        "id": "t0_2yeBU3SwF"
      },
      "source": [
        "##**INCREASING ORDER**"
      ]
    },
    {
      "cell_type": "code",
      "execution_count": 4,
      "metadata": {
        "colab": {
          "base_uri": "https://localhost:8080/"
        },
        "id": "lxF5-O6u3aZs",
        "outputId": "2c5dfe78-f0fc-428a-cd96-d3d25f527d4b"
      },
      "outputs": [
        {
          "output_type": "stream",
          "name": "stdout",
          "text": [
            "enter number of rows: 5\n",
            "* \n",
            "* * \n",
            "* * * \n",
            "* * * * \n",
            "* * * * * \n"
          ]
        }
      ],
      "source": [
        "a = int(input('enter number of rows: '))\n",
        "for r in range(a):\n",
        "  for c in range(r+1):\n",
        "    print('*', end=' ')\n",
        "  print()"
      ]
    },
    {
      "cell_type": "markdown",
      "metadata": {
        "id": "WLOCxpE84hFw"
      },
      "source": [
        "##**DECREASING ORDER**"
      ]
    },
    {
      "cell_type": "code",
      "execution_count": 5,
      "metadata": {
        "colab": {
          "base_uri": "https://localhost:8080/"
        },
        "id": "eC0G5WLX4n25",
        "outputId": "3d45280e-4cdd-41e6-96bb-2124c67d7c85"
      },
      "outputs": [
        {
          "output_type": "stream",
          "name": "stdout",
          "text": [
            "enter number of rows: 5\n",
            "* * * * * \n",
            "* * * * \n",
            "* * * \n",
            "* * \n",
            "* \n"
          ]
        }
      ],
      "source": [
        "a = int(input('enter number of rows: '))\n",
        "for r in range(a):\n",
        "  for c in range(r,a):\n",
        "    print('*', end=' ')\n",
        "  print()"
      ]
    },
    {
      "cell_type": "code",
      "execution_count": 6,
      "metadata": {
        "colab": {
          "base_uri": "https://localhost:8080/"
        },
        "id": "ikGSh9r7GPIQ",
        "outputId": "a104d4b5-3808-4a25-edd1-91ecaa09ff4b"
      },
      "outputs": [
        {
          "output_type": "stream",
          "name": "stdout",
          "text": [
            "enter number of rows: 5\n",
            "* \n",
            "* * \n",
            "* * * \n",
            "* * * * \n",
            "* * * * * \n",
            "* * * * \n",
            "* * * \n",
            "* * \n",
            "* \n",
            "\n"
          ]
        }
      ],
      "source": [
        "a = int(input('enter number of rows: '))\n",
        "for r in range(a):\n",
        "  for c in range(r+1):\n",
        "    print('*', end=' ')\n",
        "  print()\n",
        "\n",
        "for r in range(a):\n",
        "  for c in range(r,a-1):\n",
        "    print('*', end=' ')\n",
        "  print()"
      ]
    },
    {
      "cell_type": "markdown",
      "metadata": {
        "id": "94FBuZsADtZ_"
      },
      "source": [
        "##**PYRAMID PATTERN**"
      ]
    },
    {
      "cell_type": "code",
      "execution_count": 7,
      "metadata": {
        "colab": {
          "base_uri": "https://localhost:8080/"
        },
        "id": "UqALlRp2DzaZ",
        "outputId": "b03f2540-e624-4dd6-eb2b-09be8d6fb6ec"
      },
      "outputs": [
        {
          "output_type": "stream",
          "name": "stdout",
          "text": [
            "enter number of rows: 5\n",
            "     * \n",
            "    * * \n",
            "   * * * \n",
            "  * * * * \n",
            " * * * * * \n"
          ]
        }
      ],
      "source": [
        "a = int(input('enter number of rows: '))\n",
        "for r in range(a):\n",
        "  for c in range(r,a):\n",
        "    print(' ',end= '')\n",
        "  for c in range(r+1):\n",
        "    print('*', end= ' ')\n",
        "  print()"
      ]
    },
    {
      "cell_type": "markdown",
      "metadata": {
        "id": "FOJpIiDCEbMW"
      },
      "source": [
        "## **REVERSE PYRAMID PATTERN**"
      ]
    },
    {
      "cell_type": "code",
      "execution_count": 8,
      "metadata": {
        "colab": {
          "base_uri": "https://localhost:8080/"
        },
        "id": "lcPTbyAsESHI",
        "outputId": "c0675cad-25a0-4d13-f3a4-32b9e84b8cd0"
      },
      "outputs": [
        {
          "output_type": "stream",
          "name": "stdout",
          "text": [
            "enter number of rows: 5\n",
            " * * * * * \n",
            "  * * * * \n",
            "   * * * \n",
            "    * * \n",
            "     * \n"
          ]
        }
      ],
      "source": [
        "a = int(input('enter number of rows: '))\n",
        "for r in range(a):\n",
        "  for c in range(r+1):\n",
        "    print(' ',end= '')\n",
        "  for c in range(r,a):\n",
        "    print('*', end= ' ')\n",
        "  print()"
      ]
    },
    {
      "cell_type": "markdown",
      "metadata": {
        "id": "doiopqvQ5H8A"
      },
      "source": [
        "##**DIAMOND PATTERN**"
      ]
    },
    {
      "cell_type": "code",
      "execution_count": 9,
      "metadata": {
        "colab": {
          "base_uri": "https://localhost:8080/"
        },
        "id": "VtUCiYpMGiwe",
        "outputId": "1585539b-7ad3-474e-db73-1f872bc843b7"
      },
      "outputs": [
        {
          "output_type": "stream",
          "name": "stdout",
          "text": [
            "     * \n",
            "    * * \n",
            "   * * * \n",
            "  * * * * \n",
            " * * * * * \n",
            "  * * * * \n",
            "   * * * \n",
            "    * * \n",
            "     * \n"
          ]
        }
      ],
      "source": [
        "a = 5\n",
        "for r in range(a-1):\n",
        "  for c in range(r,a):\n",
        "    print(' ',end= '')\n",
        "  for c in range(r+1):\n",
        "    print('*', end= ' ')\n",
        "  print()\n",
        "\n",
        "for r in range(a):\n",
        "  for c in range(r+1):\n",
        "    print(' ',end= '')\n",
        "  for c in range(r,a):\n",
        "    print('*', end= ' ')\n",
        "  print()"
      ]
    }
  ],
  "metadata": {
    "colab": {
      "provenance": [],
      "authorship_tag": "ABX9TyN9NqLOmW2JHLFOegxNnY+V",
      "include_colab_link": true
    },
    "kernelspec": {
      "display_name": "Python 3",
      "name": "python3"
    },
    "language_info": {
      "name": "python"
    }
  },
  "nbformat": 4,
  "nbformat_minor": 0
}