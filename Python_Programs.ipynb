{
  "nbformat": 4,
  "nbformat_minor": 0,
  "metadata": {
    "colab": {
      "provenance": [],
      "authorship_tag": "ABX9TyPJ/Kq0FBkuIJRdhGDGkZsS",
      "include_colab_link": true
    },
    "kernelspec": {
      "name": "python3",
      "display_name": "Python 3"
    },
    "language_info": {
      "name": "python"
    }
  },
  "cells": [
    {
      "cell_type": "markdown",
      "metadata": {
        "id": "view-in-github",
        "colab_type": "text"
      },
      "source": [
        "<a href=\"https://colab.research.google.com/github/Afzar26/Python/blob/main/Python_Programs.ipynb\" target=\"_parent\"><img src=\"https://colab.research.google.com/assets/colab-badge.svg\" alt=\"Open In Colab\"/></a>"
      ]
    },
    {
      "cell_type": "markdown",
      "source": [
        "##**AREA OF TRIANGLE**"
      ],
      "metadata": {
        "id": "B7-ZFsrC_Vu7"
      }
    },
    {
      "cell_type": "code",
      "source": [
        "# using length and width\n",
        "\n",
        "def area_of_triangle(l,w):\n",
        "  a = 0.5*l*w\n",
        "  return a\n",
        "\n",
        "l = float(input('enter length: '))\n",
        "w = float(input('enter width: '))\n",
        "area_of_triangle(l,w)"
      ],
      "metadata": {
        "colab": {
          "base_uri": "https://localhost:8080/"
        },
        "id": "oRh3G1J-_gYV",
        "outputId": "d7ab97c8-b6a2-4501-abf7-061f2d0f38b0"
      },
      "execution_count": 55,
      "outputs": [
        {
          "name": "stdout",
          "output_type": "stream",
          "text": [
            "enter length: 5\n",
            "enter width: 3\n"
          ]
        },
        {
          "output_type": "execute_result",
          "data": {
            "text/plain": [
              "7.5"
            ]
          },
          "metadata": {},
          "execution_count": 55
        }
      ]
    },
    {
      "cell_type": "code",
      "source": [
        "# using sides    area = square root of s*s-a*s-b*s-c where s is the semiperimeter\n",
        "def area_of_triangle(a,b,c):\n",
        "  s = (a+b+c)/2\n",
        "  a = (s*(s-a)*(s-b)*(s-c))**0.5\n",
        "  return a\n",
        "\n",
        "a = float(input('enter side1: '))\n",
        "b = float(input('enter side2: '))\n",
        "c = float(input('enter side3: '))\n",
        "\n",
        "area_of_triangle(a,b,c)"
      ],
      "metadata": {
        "id": "FiW1yd6pBKkZ",
        "colab": {
          "base_uri": "https://localhost:8080/"
        },
        "outputId": "03d3866c-8793-4b1f-ecd9-516df9f204ef"
      },
      "execution_count": 56,
      "outputs": [
        {
          "name": "stdout",
          "output_type": "stream",
          "text": [
            "enter side1: 4\n",
            "enter side2: 5\n",
            "enter side3: 2\n"
          ]
        },
        {
          "output_type": "execute_result",
          "data": {
            "text/plain": [
              "3.799671038392666"
            ]
          },
          "metadata": {},
          "execution_count": 56
        }
      ]
    },
    {
      "cell_type": "markdown",
      "source": [
        "##**CONCATENATE STRINGS**"
      ],
      "metadata": {
        "id": "Yuxuh_HsD4Yx"
      }
    },
    {
      "cell_type": "code",
      "source": [
        "a = 'hi! '\n",
        "b = 'How are you'\n",
        "c = a+b\n",
        "print(c)"
      ],
      "metadata": {
        "colab": {
          "base_uri": "https://localhost:8080/"
        },
        "id": "4JKwBajOD0fn",
        "outputId": "3ee28e30-3fd9-4426-e4b2-8ac76eb0e446"
      },
      "execution_count": 57,
      "outputs": [
        {
          "output_type": "stream",
          "name": "stdout",
          "text": [
            "hi! How are you\n"
          ]
        }
      ]
    },
    {
      "cell_type": "markdown",
      "source": [
        "##**LARGEST AMONG THREE NUMBERS**"
      ],
      "metadata": {
        "id": "gCTJEJQXETXf"
      }
    },
    {
      "cell_type": "code",
      "source": [
        "a = float(input('enter num 1: '))\n",
        "b = float(input('enter num 2: '))\n",
        "c = float(input('enter num 3: '))\n",
        "if a>b and a>c:\n",
        "  print(f'{a} is greatest number')\n",
        "elif b>a and b>c:\n",
        "  print(f'{b} is greatest number')\n",
        "else:\n",
        "  print(f'{c}is greatest number')"
      ],
      "metadata": {
        "colab": {
          "base_uri": "https://localhost:8080/"
        },
        "id": "JadexUYeEh_C",
        "outputId": "97732e58-cdbc-47c0-d1ef-97a34bac298b"
      },
      "execution_count": 58,
      "outputs": [
        {
          "output_type": "stream",
          "name": "stdout",
          "text": [
            "enter num 1: 34\n",
            "enter num 2: 54\n",
            "enter num 3: 34\n",
            "54.0 is greatest number\n"
          ]
        }
      ]
    },
    {
      "cell_type": "markdown",
      "source": [
        "##**CHECK THE NUMBER IS PRIME OR NOT**"
      ],
      "metadata": {
        "id": "jEfSEiREGorM"
      }
    },
    {
      "cell_type": "code",
      "source": [
        "num = int(input('enter number: '))\n",
        "for i in range(2,num):\n",
        "  if num % i== 0:\n",
        "   print(f'{num} is prime not number')\n",
        "   break;\n",
        "else:\n",
        "  print(f'{num} is prime number')\n"
      ],
      "metadata": {
        "colab": {
          "base_uri": "https://localhost:8080/"
        },
        "id": "LyOajIwtG5ji",
        "outputId": "87010d9f-4356-468b-a352-9c8321ec4678"
      },
      "execution_count": 59,
      "outputs": [
        {
          "output_type": "stream",
          "name": "stdout",
          "text": [
            "enter number: 5\n",
            "5 is prime number\n"
          ]
        }
      ]
    },
    {
      "cell_type": "markdown",
      "source": [
        "##**FACTORIAL**"
      ],
      "metadata": {
        "id": "9-NP6qLJNitX"
      }
    },
    {
      "cell_type": "code",
      "source": [
        "n = int(input('enter number: '))\n",
        "f = 1\n",
        "if n == 0:\n",
        "  print(f'The Factorial of {n} is 1')\n",
        "elif n<0:\n",
        "  print('Sorry factorial of given number is does not exist')\n",
        "else:\n",
        "  for i in range(1,n+1):\n",
        "    f = f*i\n",
        "print(f'The factorial of {n} is {f}')\n",
        "\n"
      ],
      "metadata": {
        "colab": {
          "base_uri": "https://localhost:8080/"
        },
        "id": "FfLVI74ONmLn",
        "outputId": "0bda42df-31f6-4565-a279-62add7612822"
      },
      "execution_count": 60,
      "outputs": [
        {
          "output_type": "stream",
          "name": "stdout",
          "text": [
            "enter number: 7\n",
            "The factorial of 7 is 5040\n"
          ]
        }
      ]
    },
    {
      "cell_type": "markdown",
      "source": [
        "##**POSITIVE OR NEGATIVE**"
      ],
      "metadata": {
        "id": "2hRGix5MAGZa"
      }
    },
    {
      "cell_type": "code",
      "source": [
        "num = float(input('Enter number: '))\n",
        "if num>0:\n",
        "  print(f'{num} is positive number')\n",
        "elif num<0:\n",
        "  print(f'{num} is negative number')\n",
        "else:\n",
        "  print('the number is zero')"
      ],
      "metadata": {
        "colab": {
          "base_uri": "https://localhost:8080/"
        },
        "id": "ndookpMOAOFc",
        "outputId": "d1bcc5f1-ef52-47ce-c187-15faaa8c4a35"
      },
      "execution_count": 61,
      "outputs": [
        {
          "output_type": "stream",
          "name": "stdout",
          "text": [
            "Enter number: 8\n",
            "8.0 is positive number\n"
          ]
        }
      ]
    },
    {
      "cell_type": "markdown",
      "source": [
        "##**MULTIPLICATION TABLE**"
      ],
      "metadata": {
        "id": "0-dLeQHLBG5t"
      }
    },
    {
      "cell_type": "code",
      "source": [
        "a = int(input('which multiplication table you want: '))\n",
        "for i in range (1,11):\n",
        "  m = i*a\n",
        "  print(f'{i} x {a} = {m}')"
      ],
      "metadata": {
        "colab": {
          "base_uri": "https://localhost:8080/"
        },
        "id": "MQ5eetZTBGAQ",
        "outputId": "a08d03b0-a542-477b-c215-d7ba0f1f7fbc"
      },
      "execution_count": 62,
      "outputs": [
        {
          "output_type": "stream",
          "name": "stdout",
          "text": [
            "which multiplication table you want: 5\n",
            "1 x 5 = 5\n",
            "2 x 5 = 10\n",
            "3 x 5 = 15\n",
            "4 x 5 = 20\n",
            "5 x 5 = 25\n",
            "6 x 5 = 30\n",
            "7 x 5 = 35\n",
            "8 x 5 = 40\n",
            "9 x 5 = 45\n",
            "10 x 5 = 50\n"
          ]
        }
      ]
    },
    {
      "cell_type": "markdown",
      "source": [
        "##**LEAP YEAR OR NOT**"
      ],
      "metadata": {
        "id": "rlZuQviZB6aX"
      }
    },
    {
      "cell_type": "code",
      "source": [
        "y = int(input('enter year: '))\n",
        "if y%4 == 0:\n",
        "  if y%100 == 0:\n",
        "    if y%400 == 0:\n",
        "      print(f'{y} is a leap year')\n",
        "    else:\n",
        "      print(f'{y} is not a leap year')\n",
        "  else:\n",
        "    print(f'{y} is a leap year')\n",
        "else:\n",
        "  print(f'{y} is not a leap year')"
      ],
      "metadata": {
        "colab": {
          "base_uri": "https://localhost:8080/"
        },
        "id": "MXSIkm7PCPlz",
        "outputId": "3b8c75f6-0e69-4169-8ab6-6b2cd452da4d"
      },
      "execution_count": 63,
      "outputs": [
        {
          "output_type": "stream",
          "name": "stdout",
          "text": [
            "enter year: 4500\n",
            "4500 is not a leap year\n"
          ]
        }
      ]
    },
    {
      "cell_type": "markdown",
      "source": [],
      "metadata": {
        "id": "sB64xZwzIUAy"
      }
    },
    {
      "cell_type": "markdown",
      "source": [
        "##**CURRENT DATE**"
      ],
      "metadata": {
        "id": "z5XSOzbuIVz2"
      }
    },
    {
      "cell_type": "code",
      "source": [
        "from datetime import date\n",
        "t = date.today()\n",
        "print(f'Today Date: {t}')"
      ],
      "metadata": {
        "colab": {
          "base_uri": "https://localhost:8080/"
        },
        "id": "4IQaJ8MtIcF4",
        "outputId": "ea6272d7-7ca9-43e0-e1ad-fa516fcadd94"
      },
      "execution_count": 64,
      "outputs": [
        {
          "output_type": "stream",
          "name": "stdout",
          "text": [
            "Today Date: 2023-10-10\n"
          ]
        }
      ]
    },
    {
      "cell_type": "markdown",
      "source": [
        "##**HCF OF TWO NUMBERS**"
      ],
      "metadata": {
        "id": "axvMZP12Jw86"
      }
    },
    {
      "cell_type": "code",
      "source": [
        "def hcf(a,b):    # using recursive function\n",
        "  if b == 0:\n",
        "    return a\n",
        "  else:\n",
        "    return hcf(b,a%b)  # a = b , b = a%b (which is remainder of a%b)\n",
        "\n",
        "a = int(input('enter num1: '))\n",
        "b = int(input('enter num2: '))\n",
        "print(hcf(a,b))"
      ],
      "metadata": {
        "colab": {
          "base_uri": "https://localhost:8080/"
        },
        "id": "0aSBjuafJ2Vp",
        "outputId": "8151dffe-3e8d-4e64-d806-0158fa37fe46"
      },
      "execution_count": 65,
      "outputs": [
        {
          "output_type": "stream",
          "name": "stdout",
          "text": [
            "enter num1: 4\n",
            "enter num2: 7\n",
            "1\n"
          ]
        }
      ]
    },
    {
      "cell_type": "markdown",
      "source": [
        "##**LCM OF TWO NUMBER**"
      ],
      "metadata": {
        "id": "q4TIqD88F3rY"
      }
    },
    {
      "cell_type": "code",
      "source": [
        "n1 = int(input('enter number1: '))\n",
        "n2 = int(input('enter number2: '))\n",
        "if n1>n2:\n",
        "  higher = n1\n",
        "else:\n",
        "  higher = n2\n",
        "increment = higher\n",
        "while True:\n",
        "  if higher % n1 == 0 and higher % n2 ==0:\n",
        "    print(f'LCM of {n1} and {n2} is {higher}')\n",
        "    break\n",
        "  higher+=increment\n",
        "\n"
      ],
      "metadata": {
        "colab": {
          "base_uri": "https://localhost:8080/"
        },
        "id": "LokpM2CUF7yJ",
        "outputId": "ca322299-6844-4080-cb90-a1d739bfadb9"
      },
      "execution_count": 68,
      "outputs": [
        {
          "output_type": "stream",
          "name": "stdout",
          "text": [
            "enter number1: 6\n",
            "enter number2: 8\n",
            "LCM of 6 and 8 is 24\n"
          ]
        }
      ]
    },
    {
      "cell_type": "markdown",
      "source": [
        "##**SQUARE OF THE NUMBER**"
      ],
      "metadata": {
        "id": "voDXuKtcIEsL"
      }
    },
    {
      "cell_type": "code",
      "source": [
        "n = int(input('enter number: '))\n",
        "def square(n):\n",
        "  a = n**2\n",
        "  print(f'{n} square is = {a}')\n",
        "\n",
        "square(n)"
      ],
      "metadata": {
        "colab": {
          "base_uri": "https://localhost:8080/"
        },
        "id": "M6xI-Tq-IKyO",
        "outputId": "6c723008-3fc3-4522-a453-ddca383950d4"
      },
      "execution_count": 69,
      "outputs": [
        {
          "output_type": "stream",
          "name": "stdout",
          "text": [
            "enter number: 34\n",
            "34 square is = 1156\n"
          ]
        }
      ]
    },
    {
      "cell_type": "markdown",
      "source": [
        "##**CELSIUS TO FAHERNHEIT**"
      ],
      "metadata": {
        "id": "A7iyC6keIzud"
      }
    },
    {
      "cell_type": "code",
      "source": [
        "celsius = float(input('enter celsius: '))\n",
        "fahernheit = (celsius * 1.8) + 32\n",
        "print(f\"Celsius: {celsius} into Fahernheit :{fahernheit} \")"
      ],
      "metadata": {
        "colab": {
          "base_uri": "https://localhost:8080/"
        },
        "id": "tnPjv0VBJI2r",
        "outputId": "b7c4f165-9428-48ed-d8c7-7c4478e9030c"
      },
      "execution_count": 70,
      "outputs": [
        {
          "output_type": "stream",
          "name": "stdout",
          "text": [
            "enter celsius: 45\n",
            "Celsius: 45.0 into Fahernheit :113.0 \n"
          ]
        }
      ]
    },
    {
      "cell_type": "markdown",
      "source": [
        "##**KILOMETERS INTO MILES**"
      ],
      "metadata": {
        "id": "iSWpb2OLLSfU"
      }
    },
    {
      "cell_type": "code",
      "source": [
        "km = float(input('enter: '))\n",
        "conv_fac = 0.621371  # conversion factor\n",
        "m = km*conv_fac\n",
        "print(f'{km} KM = {m} miles')"
      ],
      "metadata": {
        "colab": {
          "base_uri": "https://localhost:8080/"
        },
        "id": "r7FAqg9JLXEc",
        "outputId": "881da3a7-f5a1-48ec-f473-fd4d09acdf02"
      },
      "execution_count": 71,
      "outputs": [
        {
          "output_type": "stream",
          "name": "stdout",
          "text": [
            "enter: 1000\n",
            "1000.0 KM = 621.371 miles\n"
          ]
        }
      ]
    },
    {
      "cell_type": "markdown",
      "source": [
        "##**SWAPPING TWO NUMBER**"
      ],
      "metadata": {
        "id": "k85xFKN1MX7t"
      }
    },
    {
      "cell_type": "code",
      "source": [
        "a = 12\n",
        "b = 26\n",
        "a,b = b,a\n",
        "print('a: ',a)\n",
        "print('b: ',b)"
      ],
      "metadata": {
        "colab": {
          "base_uri": "https://localhost:8080/"
        },
        "id": "ojPRE_pYMfG5",
        "outputId": "936ed48f-802c-41c2-e208-f50407a3e820"
      },
      "execution_count": 72,
      "outputs": [
        {
          "output_type": "stream",
          "name": "stdout",
          "text": [
            "a:  26\n",
            "b:  12\n"
          ]
        }
      ]
    },
    {
      "cell_type": "markdown",
      "source": [
        "##**ARMSTRONG NUMBER**"
      ],
      "metadata": {
        "id": "0fbQ_cNh2eHc"
      }
    },
    {
      "cell_type": "code",
      "source": [
        "# the given num is 153: 153== (1*3)+(5**3)+(3**3) 3=number digits\n",
        "n = int(input('Enter number: '))\n",
        "result = 0\n",
        "temp = n\n",
        "p = len(str(n))\n",
        "while temp>0:\n",
        "  d = temp%10\n",
        "  result += d**p\n",
        "  temp //=10\n",
        "if n == result:\n",
        "  print(f'{n} is eqaul to {result} \\n{n} is a armstrong number')\n",
        "else:\n",
        "  print(f'{n} is not equal to {result} \\n{n} is not a armstrong number')"
      ],
      "metadata": {
        "id": "qj2Oi2Ow2jkl",
        "colab": {
          "base_uri": "https://localhost:8080/"
        },
        "outputId": "3d33990a-a171-4cf9-9963-2dba037abf6b"
      },
      "execution_count": 73,
      "outputs": [
        {
          "output_type": "stream",
          "name": "stdout",
          "text": [
            "Enter number: 153\n",
            "153 is eqaul to 153 \n",
            "153 is a armstrong number\n"
          ]
        }
      ]
    },
    {
      "cell_type": "markdown",
      "source": [
        "##**WHETHER THE ELEMENT IS PRESENT IN LIST OR NOT**"
      ],
      "metadata": {
        "id": "5U18NBfO2vDZ"
      }
    },
    {
      "cell_type": "code",
      "source": [
        "list = [1,2,3,4,5,6,7]\n",
        "i = 5\n",
        "if i in list:\n",
        "  print(f'{i} is present in list')\n",
        "else:\n",
        "  print(f'{i} is not present in list')"
      ],
      "metadata": {
        "colab": {
          "base_uri": "https://localhost:8080/"
        },
        "id": "mIONGohz3Gsm",
        "outputId": "e71269aa-b9fa-46b0-efc1-2ece2ed4d11d"
      },
      "execution_count": 74,
      "outputs": [
        {
          "output_type": "stream",
          "name": "stdout",
          "text": [
            "5 is present in list\n"
          ]
        }
      ]
    },
    {
      "cell_type": "markdown",
      "source": [
        "##**REVERSE THE LIST AND NUMBER**"
      ],
      "metadata": {
        "id": "B_cmOua63jCI"
      }
    },
    {
      "cell_type": "code",
      "source": [
        "l = [1,2,3,4,5,6,7,8,9,10]\n",
        "re = l[::-1]\n",
        "print(f'Reverse list: {re}')\n",
        "\n",
        "n = int(input('enter a number: '))\n",
        "r = str(n)\n",
        "print('Reverse number: ',r[::-1])\n"
      ],
      "metadata": {
        "colab": {
          "base_uri": "https://localhost:8080/"
        },
        "id": "kvU-KhSD3qwy",
        "outputId": "ae797a48-7b83-4a7f-dc94-f1758294b40b"
      },
      "execution_count": 75,
      "outputs": [
        {
          "output_type": "stream",
          "name": "stdout",
          "text": [
            "Reverse list: [10, 9, 8, 7, 6, 5, 4, 3, 2, 1]\n",
            "enter a number: 3456\n",
            "Reverse number:  6543\n"
          ]
        }
      ]
    },
    {
      "cell_type": "markdown",
      "source": [
        "## **PALINDROME OR NOT**"
      ],
      "metadata": {
        "id": "pbt0OUO1xvHl"
      }
    },
    {
      "cell_type": "code",
      "source": [
        "s = input('enter string: ')\n",
        "r = s[::-1]\n",
        "if s == r:\n",
        "  print(f'{s} is palindrome: {r}')\n",
        "else:\n",
        "  print(f'{s} is not palindrom: {r}')\n"
      ],
      "metadata": {
        "colab": {
          "base_uri": "https://localhost:8080/"
        },
        "id": "ESfUfpHLyCSj",
        "outputId": "be9f8240-d9fa-468a-fd34-c429ddb03570"
      },
      "execution_count": 76,
      "outputs": [
        {
          "output_type": "stream",
          "name": "stdout",
          "text": [
            "enter string: malayalam\n",
            "malayalam is palindrome: malayalam\n"
          ]
        }
      ]
    },
    {
      "cell_type": "markdown",
      "source": [
        "# **PATTERN PRINTING**"
      ],
      "metadata": {
        "id": "PQ3WVQzESb4N"
      }
    },
    {
      "cell_type": "code",
      "source": [
        "n  = int(input('enter rows: '))\n",
        "for r in range(n+1):\n",
        "  for c in range(r):\n",
        "    print('*',end=' ')\n",
        "  print()"
      ],
      "metadata": {
        "colab": {
          "base_uri": "https://localhost:8080/"
        },
        "id": "9HAZM19SS1er",
        "outputId": "33941c72-31c4-40d4-8ff6-d3d07e6d7b55"
      },
      "execution_count": 77,
      "outputs": [
        {
          "output_type": "stream",
          "name": "stdout",
          "text": [
            "enter rows: 5\n",
            "\n",
            "* \n",
            "* * \n",
            "* * * \n",
            "* * * * \n",
            "* * * * * \n"
          ]
        }
      ]
    },
    {
      "cell_type": "code",
      "source": [
        "n  = int(input('enter rows: '))\n",
        "for r in range(n+1,0,-1):\n",
        "  for c in range(r):\n",
        "    print('*',end=' ')\n",
        "  print()"
      ],
      "metadata": {
        "colab": {
          "base_uri": "https://localhost:8080/"
        },
        "id": "2NuKbjGZUFOh",
        "outputId": "a8a0ac87-17f7-40a2-b4eb-72a10e633513"
      },
      "execution_count": 78,
      "outputs": [
        {
          "output_type": "stream",
          "name": "stdout",
          "text": [
            "enter rows: 5\n",
            "* * * * * * \n",
            "* * * * * \n",
            "* * * * \n",
            "* * * \n",
            "* * \n",
            "* \n"
          ]
        }
      ]
    },
    {
      "cell_type": "markdown",
      "source": [
        "#**ODD OR EVEN NUMBER**"
      ],
      "metadata": {
        "id": "x4x8zqgPcIvC"
      }
    },
    {
      "cell_type": "code",
      "source": [
        "n = int(input('enter number: '))\n",
        "if n%2 == 0:\n",
        "  print(f'{n} is even number')\n",
        "else:\n",
        "  print(f'{n} is odd number')"
      ],
      "metadata": {
        "id": "aRJRKTv1cOE8",
        "colab": {
          "base_uri": "https://localhost:8080/"
        },
        "outputId": "804e3fda-1b90-4245-f110-c9c1ee4777cb"
      },
      "execution_count": 79,
      "outputs": [
        {
          "output_type": "stream",
          "name": "stdout",
          "text": [
            "enter number: 4\n",
            "4 is even number\n"
          ]
        }
      ]
    },
    {
      "cell_type": "markdown",
      "source": [
        "# **SUM OF n NUMBERS**"
      ],
      "metadata": {
        "id": "X0HJLfMsCEFY"
      }
    },
    {
      "cell_type": "code",
      "source": [
        "n = int(input('How many numbers you want sum: '))\n",
        "s = 0\n",
        "print(f'Enter {n} numbers: ')\n",
        "for i in range(n):\n",
        "  a = int(input())\n",
        "  s+=a\n",
        "print(f'Sum of {n} numbers is : {s}')"
      ],
      "metadata": {
        "colab": {
          "base_uri": "https://localhost:8080/"
        },
        "id": "wvpJKEViCrfz",
        "outputId": "60f17d2e-6e03-4d14-d4d4-e9a3e78e02c0"
      },
      "execution_count": 80,
      "outputs": [
        {
          "output_type": "stream",
          "name": "stdout",
          "text": [
            "How many numbers you want sum: 5\n",
            "Enter 5 numbers: \n",
            "34\n",
            "4\n",
            "34\n",
            "43\n",
            "6\n",
            "Sum of 5 numbers is : 121\n"
          ]
        }
      ]
    },
    {
      "cell_type": "markdown",
      "source": [
        "# **FIND VOWELS IN STRING**"
      ],
      "metadata": {
        "id": "w7VbExRMDuJs"
      }
    },
    {
      "cell_type": "code",
      "source": [
        "st = input('Enter string: ')\n",
        "v = 0\n",
        "for i in st:\n",
        "  if i=='a' or i=='e' or i=='i' or i=='o' or i=='u' or i=='A' or i=='E' or i=='I' or i=='O' or i=='U':\n",
        "    v += 1\n",
        "print(f'Number of vowels are: {v}')\n",
        "\n"
      ],
      "metadata": {
        "colab": {
          "base_uri": "https://localhost:8080/"
        },
        "id": "TmjEsTeYEFsV",
        "outputId": "f4db09e3-2b89-4f45-e393-973c8ca1212d"
      },
      "execution_count": 81,
      "outputs": [
        {
          "output_type": "stream",
          "name": "stdout",
          "text": [
            "Enter string: happy\n",
            "Number of vowels are: 1\n"
          ]
        }
      ]
    },
    {
      "cell_type": "markdown",
      "source": [
        "# **GENERATE ALL THE DIVISORS OF THE INTEGER**"
      ],
      "metadata": {
        "id": "6Wz8g1n3FxQo"
      }
    },
    {
      "cell_type": "code",
      "source": [
        "a = int(input('enter integer: '))\n",
        "print(f'The divisors of the {a}: ')\n",
        "for i in range(1,a+1):\n",
        "  if a%i == 0:\n",
        "    print(i)\n",
        "\n",
        ""
      ],
      "metadata": {
        "colab": {
          "base_uri": "https://localhost:8080/"
        },
        "id": "KrYCZ06VF5hI",
        "outputId": "48c8b7cc-7bb0-4400-9d70-764b60f5792b"
      },
      "execution_count": 82,
      "outputs": [
        {
          "output_type": "stream",
          "name": "stdout",
          "text": [
            "enter integer: 26\n",
            "The divisors of the 26: \n",
            "1\n",
            "2\n",
            "13\n",
            "26\n"
          ]
        }
      ]
    },
    {
      "cell_type": "markdown",
      "source": [
        "#**GET THE 5 SUBJECT MARKS AND DISPLAY GRADE**"
      ],
      "metadata": {
        "id": "QzeMStNMIBQm"
      }
    },
    {
      "cell_type": "code",
      "source": [
        "sub1 = int(input('Enter subject1 mark: '))\n",
        "sub2 = int(input('Enter subject2 mark: '))\n",
        "sub3 = int(input('Enter subject3 mark: '))\n",
        "sub4 = int(input('Enter subject4 mark: '))\n",
        "sub5 = int(input('Enter subject5 mark: '))\n",
        "ave = (sub1+sub2+sub3+sub4+sub5)//5\n",
        "print(f'your average is : {ave}')\n",
        "if ave>=90:\n",
        "  print(f'your grade is O')\n",
        "elif ave>=80 and ave<90:\n",
        "  print(f'your grade is A+')\n",
        "elif ave>=70 and ave<80:\n",
        "  print(f'your grade is A')\n",
        "elif ave>=60 and ave<70:\n",
        "  print(f'your grade is B+')\n",
        "elif ave>=50 and ave<60:\n",
        "  print(f'your grade is B')\n",
        "else:\n",
        "  print(f'your grade is F')\n"
      ],
      "metadata": {
        "colab": {
          "base_uri": "https://localhost:8080/"
        },
        "id": "MBHhMUMYIUEa",
        "outputId": "9872fe73-7f22-441c-ece0-35b2453a1207"
      },
      "execution_count": 83,
      "outputs": [
        {
          "output_type": "stream",
          "name": "stdout",
          "text": [
            "Enter subject1 mark: 34\n",
            "Enter subject2 mark: 56\n",
            "Enter subject3 mark: 76\n",
            "Enter subject4 mark: 98\n",
            "Enter subject5 mark: 67\n",
            "your average is : 66\n",
            "your grade is B+\n"
          ]
        }
      ]
    },
    {
      "cell_type": "markdown",
      "source": [
        "#**DECIMAL TO BINARY NUMBER**"
      ],
      "metadata": {
        "id": "JJwEic0hL6DF"
      }
    },
    {
      "cell_type": "code",
      "source": [
        "k = int(input('enter decimal number: '))\n",
        "b = bin(k)\n",
        "print(f'binary number of {k} is {b[2:]}')"
      ],
      "metadata": {
        "colab": {
          "base_uri": "https://localhost:8080/"
        },
        "id": "nNdOAPXALzHb",
        "outputId": "4109ff0d-23e2-4163-d52d-243d4ebe2b2c"
      },
      "execution_count": 84,
      "outputs": [
        {
          "output_type": "stream",
          "name": "stdout",
          "text": [
            "enter decimal number: 36\n",
            "binary number of 36 is 100100\n"
          ]
        }
      ]
    },
    {
      "cell_type": "markdown",
      "source": [
        "#**AREA OF RECTANGLE USING CLASSES**"
      ],
      "metadata": {
        "id": "Z9R8S_J5PUs7"
      }
    },
    {
      "cell_type": "code",
      "source": [
        "class rectangle():\n",
        "  def __init__ (s,l,b):\n",
        "    s.l = l\n",
        "    s.b = b\n",
        "\n",
        "  def area(s):\n",
        "    v = s.l*s.b\n",
        "    return v\n",
        "\n",
        "l = int(input('Enter length of the rectangle: '))\n",
        "b = int(input('Enter breadth of the rectangle: '))\n",
        "ar = rectangle(l,b)\n",
        "h = ar.area()\n",
        "print(f'Area of rectangle is {h}')"
      ],
      "metadata": {
        "colab": {
          "base_uri": "https://localhost:8080/"
        },
        "id": "GOyaBKTcPdav",
        "outputId": "2fbfd7ec-d4fa-4389-a5c5-a7d6375789cc"
      },
      "execution_count": 87,
      "outputs": [
        {
          "output_type": "stream",
          "name": "stdout",
          "text": [
            "Enter length of the rectangle: 34\n",
            "Enter breadth of the rectangle: 5\n",
            "Area of rectangle is 170\n"
          ]
        }
      ]
    },
    {
      "cell_type": "markdown",
      "source": [
        "#**SIMPLE CALCULATOR**"
      ],
      "metadata": {
        "id": "noyXKbRdaTCU"
      }
    },
    {
      "cell_type": "code",
      "source": [
        "class calc():\n",
        "  def __init__ (s, a, b):\n",
        "    s.a = a\n",
        "    s.b = b\n",
        "\n",
        "  def add(s):\n",
        "    c = s.a + s.b\n",
        "    print(f'Addition of {s.a} and {s.b}: {c}')\n",
        "\n",
        "  def sub(s):\n",
        "    d = s.a - s.b\n",
        "    print(f'Subraction of {s.a} from {s.b}: {d}')\n",
        "\n",
        "  def mul(s):\n",
        "    e = s.a * s.b\n",
        "    print(f'Multiplication of {s.a} x {s.b}: {e}')\n",
        "\n",
        "  def div(s):\n",
        "    f = s.a / s.b\n",
        "    print(f'Division of {s.a} by {s.b}: {f}')\n",
        "\n",
        "print('1. for addtion \\n2. for subraction \\n3. for multiplication \\n4. for division')\n",
        "\n",
        "while True:\n",
        "\n",
        "  o = input('Press any one of the following: ')\n",
        "\n",
        "  if o in ('1','2','3','4'):\n",
        "    try:\n",
        "      a = float(input('Enter number a: '))\n",
        "      b = float(input('Enter number b: '))\n",
        "      c = calc(a,b)\n",
        "    except ValueError:\n",
        "      print(\"Invalid input. Please enter a number.\")\n",
        "\n",
        "    if o == '1':\n",
        "      c.add()\n",
        "\n",
        "    elif o == '2':\n",
        "      c.sub()\n",
        "\n",
        "    elif o == '3':\n",
        "      c.mul()\n",
        "\n",
        "    elif o == '4':\n",
        "      c.div()\n",
        "\n",
        "    l = input('if you want to continue type yes \\nif you want to exit type no \\nEnter: ')\n",
        "    if l == 'no':\n",
        "      print('Thank You')\n",
        "      break\n",
        "else:\n",
        "  print('Invalid input')\n",
        "\n",
        "\n"
      ],
      "metadata": {
        "colab": {
          "base_uri": "https://localhost:8080/"
        },
        "id": "Ya9dAA1qaSIR",
        "outputId": "54b05d5c-3ee9-49e0-b6ff-8c0b817686a0"
      },
      "execution_count": 88,
      "outputs": [
        {
          "output_type": "stream",
          "name": "stdout",
          "text": [
            "1. for addtion \n",
            "2. for subraction \n",
            "3. for multiplication \n",
            "4. for division\n",
            "Press any one of the following: 2\n",
            "Enter number a: 45\n",
            "Enter number b: 35\n",
            "Subraction of 45.0 from 35.0: 10.0\n",
            "if you want to continue type yes \n",
            "if you want to exit type no \n",
            "Enter: yes\n",
            "Press any one of the following: 3\n",
            "Enter number a: 3\n",
            "Enter number b: 5\n",
            "Multiplication of 3.0 x 5.0: 15.0\n",
            "if you want to continue type yes \n",
            "if you want to exit type no \n",
            "Enter: no\n",
            "Thank You\n"
          ]
        }
      ]
    }
  ]
}